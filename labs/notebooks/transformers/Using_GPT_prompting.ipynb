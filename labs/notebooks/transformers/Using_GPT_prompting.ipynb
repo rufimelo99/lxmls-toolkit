{
 "cells": [
  {
   "cell_type": "code",
   "execution_count": null,
   "id": "3ccf2c20",
   "metadata": {},
   "outputs": [],
   "source": [
    "import torch\n",
    "from transformers import GPT2Tokenizer, GPT2LMHeadModel\n",
    "\n",
    "from lxmls.transformers.model import GPT\n",
    "from lxmls.transformers.utils import set_seed\n",
    "from lxmls.transformers.bpe import BPETokenizer\n",
    "\n",
    "import random"
   ]
  },
  {
   "cell_type": "code",
   "execution_count": null,
   "id": "04597f5a",
   "metadata": {},
   "outputs": [],
   "source": [
    "model_type = 'gpt2'\n",
    "device = 'cuda'"
   ]
  },
  {
   "cell_type": "code",
   "execution_count": null,
   "id": "d4e427a8",
   "metadata": {},
   "outputs": [],
   "source": [
    "model = GPT.from_pretrained(model_type)"
   ]
  },
  {
   "cell_type": "code",
   "execution_count": null,
   "id": "b701bedf",
   "metadata": {},
   "outputs": [],
   "source": [
    "# ship model to device and set to eval mode\n",
    "model.to(device)\n",
    "model.eval();"
   ]
  },
  {
   "cell_type": "code",
   "execution_count": null,
   "id": "ea223452",
   "metadata": {},
   "outputs": [],
   "source": [
    "# Random prompt, uses pooling\n",
    "for i in range(5):\n",
    "    set_seed(42)\n",
    "    model.prompt(\"Ramon Astudillo, the\", 50, 3)"
   ]
  },
  {
   "cell_type": "code",
   "execution_count": null,
   "id": "3d2346a0",
   "metadata": {},
   "outputs": [],
   "source": [
    "# Deterministic prompt, does NOT use pooling\n",
    "for i in range(5):\n",
    "    model.prompt_topK(\"Ramon Astudillo, the\", 50, 3)"
   ]
  },
  {
   "cell_type": "code",
   "execution_count": null,
   "id": "2439d1bb",
   "metadata": {},
   "outputs": [],
   "source": []
  }
 ],
 "metadata": {
  "kernelspec": {
   "display_name": "Python 3 (ipykernel)",
   "language": "python",
   "name": "python3"
  },
  "language_info": {
   "codemirror_mode": {
    "name": "ipython",
    "version": 3
   },
   "file_extension": ".py",
   "mimetype": "text/x-python",
   "name": "python",
   "nbconvert_exporter": "python",
   "pygments_lexer": "ipython3",
   "version": "3.10.11"
  }
 },
 "nbformat": 4,
 "nbformat_minor": 5
}
